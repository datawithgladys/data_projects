{
 "cells": [
  {
   "cell_type": "markdown",
   "metadata": {},
   "source": [
    "# Project University Mental Health"
   ]
  },
  {
   "cell_type": "markdown",
   "metadata": {},
   "source": [
    "<div style=\"background-color: #78E8A3; padding: 20px\">\n",
    "<h3>Project Scenario</h3>\n",
    "<p>Mental health is an area that is severely neglected, and can have very serious ramifications such as student self-harm and depression.</p> \n",
    "<p>Working in a university's health and wellness center, we have been tasked to identify students at risk using data so that we can help them as early as possible.</p>\n",
    "<p>In this project, we will explore a dataset obtained from the research of Nguyen et al (2019), where the authors obtained a record of 268 questionaire results of depression, acculturative stress, social connectedness, and help-seeking behaviour by a cohort of local and international students. We will be training our data on various models to predict two tasks:</p>\n",
    "(1) A regression problem: Predicting depression severity (depression score) of a student<br>\n",
    "(2) A classification problem: Predicting whether a student have thoughts of suicide<br>\n",
    "    \n",
    "Task 1's models would be evaluated and selected based on their RMSE, and task 2's models would be evaluated and selected based on their Accuracy and F1 scores.\n",
    "    \n",
    "Research details <a href = 'https://www.mdpi.com/2306-5729/4/3/124/htm'>here</a>.\n",
    "</div>"
   ]
  },
  {
   "cell_type": "markdown",
   "metadata": {},
   "source": [
    "In this notebook, we will train various models on all three datasets for both tasks.<br>"
   ]
  },
  {
   "cell_type": "code",
   "execution_count": 165,
   "metadata": {},
   "outputs": [],
   "source": [
    "#Import libraries\n",
    "import pandas as pd\n",
    "import numpy as np\n",
    "np.random.seed(42)\n",
    "import matplotlib.pyplot as plt\n",
    "from sklearn.dummy import DummyRegressor, DummyClassifier\n",
    "from sklearn.linear_model import LinearRegression, LogisticRegression\n",
    "from sklearn.tree import DecisionTreeRegressor, DecisionTreeClassifier\n",
    "from sklearn.ensemble import RandomForestRegressor, RandomForestClassifier\n",
    "from sklearn.metrics import mean_squared_error, r2_score, f1_score, plot_confusion_matrix, accuracy_score, recall_score\n",
    "from sklearn.model_selection import train_test_split\n",
    "from sklearn.preprocessing import StandardScaler\n",
    "\n",
    "%matplotlib inline"
   ]
  },
  {
   "cell_type": "markdown",
   "metadata": {},
   "source": [
    "# Task 1: Predicting Depression Severity"
   ]
  },
  {
   "cell_type": "markdown",
   "metadata": {},
   "source": [
    "### Read the three CSVs from Part III\n",
    "We'll be working with with the three CSVs that we exported from Part III: \n",
    "1. CSV containing only numerical data\n",
    "2. CSV containing only one-hot encoded categorical data\n",
    "3. CSV containing both"
   ]
  },
  {
   "cell_type": "code",
   "execution_count": 5,
   "metadata": {},
   "outputs": [],
   "source": [
    "#Read in all three CSV\n",
    "num_data = pd.read_csv('./datasets/numerical_data.csv')\n",
    "cat_data = pd.read_csv('./datasets/categorical_data.csv')\n",
    "full_data = pd.read_csv('./datasets/final_data.csv')"
   ]
  },
  {
   "cell_type": "markdown",
   "metadata": {},
   "source": [
    "## Numerical Data only"
   ]
  },
  {
   "cell_type": "code",
   "execution_count": 209,
   "metadata": {},
   "outputs": [],
   "source": [
    "#Prepare the independent (X) and dependent (y) variables\n",
    "predict_cols = [x for x in num_data.columns if x not in ['todep', 'age_cate']]\n",
    "X = num_data[predict_cols]\n",
    "y = num_data['todep']"
   ]
  },
  {
   "cell_type": "markdown",
   "metadata": {},
   "source": [
    "#### Train-test split"
   ]
  },
  {
   "cell_type": "code",
   "execution_count": 210,
   "metadata": {},
   "outputs": [],
   "source": [
    "#Split variables into train and test sets\n",
    "X_train, X_test, y_train, y_test = train_test_split(X, y, test_size=0.20, random_state=42)"
   ]
  },
  {
   "cell_type": "markdown",
   "metadata": {},
   "source": [
    "#### Standardisation"
   ]
  },
  {
   "cell_type": "code",
   "execution_count": 211,
   "metadata": {},
   "outputs": [],
   "source": [
    "#Initialise StandardScaler\n",
    "ss = StandardScaler()\n",
    "\n",
    "#Fit and transform on train set\n",
    "X_train_ss = ss.fit_transform(X_train)\n",
    "\n",
    "#Transform on test set\n",
    "X_test_ss = ss.transform(X_test)\n"
   ]
  },
  {
   "cell_type": "markdown",
   "metadata": {},
   "source": [
    "### Baseline Model"
   ]
  },
  {
   "cell_type": "code",
   "execution_count": 212,
   "metadata": {},
   "outputs": [],
   "source": [
    "#Declare a variable to store the model (DummyRegressor)\n",
    "baseline_reg = DummyRegressor()\n",
    "\n",
    "#Fit train dataset\n",
    "baseline_reg.fit(X_train_ss, y_train)\n",
    "\n",
    "#Declare a variable and store predictions made with baseline model using X test data\n",
    "baseline_pred = baseline_reg.predict(X_test_ss)"
   ]
  },
  {
   "cell_type": "code",
   "execution_count": 213,
   "metadata": {},
   "outputs": [
    {
     "name": "stdout",
     "output_type": "stream",
     "text": [
      "RMSE: 4.969\n"
     ]
    }
   ],
   "source": [
    "#Print the root mean_squared_error of the test set\n",
    "mse_baseline = round(mean_squared_error(y_test, baseline_pred, squared=False),3)\n",
    "print('RMSE:', mse_baseline)"
   ]
  },
  {
   "cell_type": "code",
   "execution_count": 214,
   "metadata": {},
   "outputs": [
    {
     "data": {
      "text/plain": [
       "Text(0, 0.5, 'True Values')"
      ]
     },
     "execution_count": 214,
     "metadata": {},
     "output_type": "execute_result"
    },
    {
     "data": {
      "image/png": "[encoded data removed]",
      "text/plain": [
       "<Figure size 432x288 with 1 Axes>"
      ]
     },
     "metadata": {
      "needs_background": "light"
     },
     "output_type": "display_data"
    }
   ],
   "source": [
    "#Plot a scatterplot between test and prediction values\n",
    "plt.scatter(baseline_pred, y_test)\n",
    "plt.xlabel('Predictions')\n",
    "plt.ylabel('True Values')"
   ]
  },
  {
   "cell_type": "markdown",
   "metadata": {},
   "source": [
    "### Linear Regression"
   ]
  },
  {
   "cell_type": "code",
   "execution_count": 227,
   "metadata": {},
   "outputs": [
    {
     "name": "stdout",
     "output_type": "stream",
     "text": [
      "RMSE: 4.49\n"
     ]
    }
   ],
   "source": [
    "#Declare a variable to store the LinearRegression model\n",
    "lr = LinearRegression()\n",
    "#Fit train dataset\n",
    "lr.fit(X_train_ss, y_train)\n",
    "#Declare a variable and store predictions made with LR model using X test data\n",
    "lr_pred = lr.predict(X_test_ss)\n",
    "#Print the RMSE for y test and the predictions\n",
    "lr_mse = round(mean_squared_error(y_test, lr_pred, squared=False),3)\n",
    "print('RMSE:', lr_mse)"
   ]
  },
  {
   "cell_type": "code",
   "execution_count": 228,
   "metadata": {},
   "outputs": [
    {
     "data": {
      "text/plain": [
       "Text(0, 0.5, 'True Values')"
      ]
     },
     "execution_count": 228,
     "metadata": {},
     "output_type": "execute_result"
    },
    {
     "data": {
      "image/png": "[encoded data removed]",
      "text/plain": [
       "<Figure size 432x288 with 1 Axes>"
      ]
     },
     "metadata": {
      "needs_background": "light"
     },
     "output_type": "display_data"
    }
   ],
   "source": [
    "#Plot a scatterplot between test and prediction values\n",
    "plt.scatter(lr_pred, y_test)\n",
    "plt.xlabel('Predictions')\n",
    "plt.ylabel('True Values')"
   ]
  },
  {
   "cell_type": "markdown",
   "metadata": {},
   "source": [
    "### Decision Tree Regressor"
   ]
  },
  {
   "cell_type": "code",
   "execution_count": 224,
   "metadata": {},
   "outputs": [
    {
     "name": "stdout",
     "output_type": "stream",
     "text": [
      "RMSE: 5.888\n"
     ]
    }
   ],
   "source": [
    "#Declare a variable to store the DecisionTreeRegressor\n",
    "dt = DecisionTreeRegressor(random_state=42)\n",
    "#Fit train dataset\n",
    "dt.fit(X_train_ss, y_train)\n",
    "#Declare a variable and store predictions made with DT model using X test data\n",
    "dt_pred = dt.predict(X_test_ss)\n",
    "#Print the RMSE for y test and the predictions\n",
    "dt_mse = round(mean_squared_error(y_test, dt_pred, squared=False),3)\n",
    "print('RMSE:', dt_mse)"
   ]
  },
  {
   "cell_type": "code",
   "execution_count": 225,
   "metadata": {},
   "outputs": [
    {
     "data": {
      "text/plain": [
       "Text(0, 0.5, 'True Values')"
      ]
     },
     "execution_count": 225,
     "metadata": {},
     "output_type": "execute_result"
    },
    {
     "data": {
      "image/png": "[encoded data removed]",
      "text/plain": [
       "<Figure size 432x288 with 1 Axes>"
      ]
     },
     "metadata": {
      "needs_background": "light"
     },
     "output_type": "display_data"
    }
   ],
   "source": [
    "#Plot a scatterplot between test and prediction values\n",
    "plt.scatter(dt_pred, y_test)\n",
    "plt.xlabel('Predictions')\n",
    "plt.ylabel('True Values')"
   ]
  },
  {
   "cell_type": "markdown",
   "metadata": {},
   "source": [
    "### Random Forest Regressor"
   ]
  },
  {
   "cell_type": "code",
   "execution_count": 222,
   "metadata": {},
   "outputs": [
    {
     "name": "stdout",
     "output_type": "stream",
     "text": [
      "RMSE: 4.644\n"
     ]
    }
   ],
   "source": [
    "#Declare a variable to store the RandomForestRegressor\n",
    "rf = RandomForestRegressor(random_state=42)\n",
    "#Fit train dataset\n",
    "rf.fit(X_train_ss, y_train)\n",
    "#Declare a variable and store predictions made with RF model using X test data\n",
    "rf_pred = rf.predict(X_test_ss)\n",
    "#Print the RMSE for y test and the predictions\n",
    "rf_mse = round(mean_squared_error(y_test, rf_pred, squared=False),3)\n",
    "print('RMSE:', rf_mse)"
   ]
  },
  {
   "cell_type": "code",
   "execution_count": 223,
   "metadata": {},
   "outputs": [
    {
     "data": {
      "text/plain": [
       "Text(0, 0.5, 'True Values')"
      ]
     },
     "execution_count": 223,
     "metadata": {},
     "output_type": "execute_result"
    },
    {
     "data": {
      "image/png": "[encoded data removed]",
      "text/plain": [
       "<Figure size 432x288 with 1 Axes>"
      ]
     },
     "metadata": {
      "needs_background": "light"
     },
     "output_type": "display_data"
    }
   ],
   "source": [
    "#Plot a scatterplot between test and prediction values\n",
    "plt.scatter(rf_pred, y_test)\n",
    "plt.xlabel('Predictions')\n",
    "plt.ylabel('True Values')"
   ]
  },
  {
   "cell_type": "markdown",
   "metadata": {},
   "source": [
    "## Categorical Data Only"
   ]
  },
  {
   "attachments": {},
   "cell_type": "markdown",
   "metadata": {},
   "source": [
    "As there are several categorical variables related to 'ToDep', we will need to drop the following related columns:\n",
    "1. DepSev_Min\n",
    "2. DepSev_Mod\n",
    "3. DepSev_ModSev\n",
    "4. DepSev_Sev\n",
    "5. Dep_Yes\n",
    "6. DepType_Other\n",
    "7. DepType_No"
   ]
  },
  {
   "cell_type": "code",
   "execution_count": 229,
   "metadata": {},
   "outputs": [],
   "source": [
    "#Prepare the independent and dependent variables\n",
    "cat_cols = [x for x in cat_data.columns if x not in ['depsev_min', 'depsev_mod', 'depsev_modsev', 'depsev_sev',\n",
    "                                                    'dep_yes', 'deptype_other', 'deptype_no']]\n",
    "X_dum = cat_data[cat_cols]\n",
    "y = num_data['todep']"
   ]
  },
  {
   "cell_type": "code",
   "execution_count": 230,
   "metadata": {},
   "outputs": [],
   "source": [
    "#Split independent and dependent variables into train and test \n",
    "X_train_dum, X_test_dum, y_train_dum, y_test_dum = train_test_split(X_dum, y, test_size=0.20, random_state=42)\n",
    "\n",
    "#Standardise data\n",
    "#Initialise StandardScaler\n",
    "ss_dum = StandardScaler()\n",
    "\n",
    "#Fit and transform on train set\n",
    "X_train_dum_ss = ss_dum.fit_transform(X_train_dum)\n",
    "\n",
    "#Transform on test set\n",
    "X_test_dum_ss = ss_dum.transform(X_test_dum)"
   ]
  },
  {
   "cell_type": "markdown",
   "metadata": {},
   "source": [
    "### Linear Regression"
   ]
  },
  {
   "cell_type": "code",
   "execution_count": 231,
   "metadata": {},
   "outputs": [
    {
     "name": "stdout",
     "output_type": "stream",
     "text": [
      "RMSE: 4.524\n"
     ]
    }
   ],
   "source": [
    "#Declare a variable to store the LinearRegression model\n",
    "lr_dum = LinearRegression()\n",
    "#Fit train dataset\n",
    "lr_dum.fit(X_train_dum_ss, y_train_dum)\n",
    "#Declare a variable and store predictions made with the model using X test data\n",
    "lr_dum_pred = lr_dum.predict(X_test_dum_ss)\n",
    "#Print the RMSE for y test and the predictions\n",
    "lr_dum_mse = round(mean_squared_error(y_test_dum, lr_dum_pred, squared=False),3)\n",
    "print('RMSE:', lr_dum_mse)"
   ]
  },
  {
   "cell_type": "code",
   "execution_count": 232,
   "metadata": {},
   "outputs": [
    {
     "data": {
      "text/plain": [
       "Text(0, 0.5, 'True Values')"
      ]
     },
     "execution_count": 232,
     "metadata": {},
     "output_type": "execute_result"
    },
    {
     "data": {
      "image/png": "[encoded data removed]",
      "text/plain": [
       "<Figure size 432x288 with 1 Axes>"
      ]
     },
     "metadata": {
      "needs_background": "light"
     },
     "output_type": "display_data"
    }
   ],
   "source": [
    "#Plot a scatterplot between test and prediction values\n",
    "plt.scatter(lr_dum_pred, y_test_dum)\n",
    "plt.xlabel('Predictions')\n",
    "plt.ylabel('True Values')"
   ]
  },
  {
   "cell_type": "markdown",
   "metadata": {},
   "source": [
    "### Decision Tree Regressor"
   ]
  },
  {
   "cell_type": "code",
   "execution_count": 233,
   "metadata": {},
   "outputs": [
    {
     "name": "stdout",
     "output_type": "stream",
     "text": [
      "RMSE: 6.107\n"
     ]
    }
   ],
   "source": [
    "#Declare a variable to store the DecisionTreeRegressor model\n",
    "dt_dum = DecisionTreeRegressor(random_state = 42)\n",
    "#Fit train dataset\n",
    "dt_dum.fit(X_train_dum_ss, y_train_dum)\n",
    "#Declare a variable and store predictions made with the model using X test data\n",
    "dt_dum_pred = dt_dum.predict(X_test_dum_ss)\n",
    "#Print the RMSE for y test and the predictions\n",
    "dt_dum_mse = round(mean_squared_error(y_test_dum, dt_dum_pred, squared=False),3)\n",
    "print('RMSE:', dt_dum_mse)"
   ]
  },
  {
   "cell_type": "code",
   "execution_count": 234,
   "metadata": {},
   "outputs": [
    {
     "data": {
      "text/plain": [
       "Text(0, 0.5, 'True Values')"
      ]
     },
     "execution_count": 234,
     "metadata": {},
     "output_type": "execute_result"
    },
    {
     "data": {
      "image/png": "[encoded data removed]",
      "text/plain": [
       "<Figure size 432x288 with 1 Axes>"
      ]
     },
     "metadata": {
      "needs_background": "light"
     },
     "output_type": "display_data"
    }
   ],
   "source": [
    "#Plot a scatterplot between test and prediction values\n",
    "plt.scatter(dt_dum_pred, y_test_dum)\n",
    "plt.xlabel('Predictions')\n",
    "plt.ylabel('True Values')"
   ]
  },
  {
   "cell_type": "markdown",
   "metadata": {},
   "source": [
    "### Random Forest Regressor"
   ]
  },
  {
   "cell_type": "code",
   "execution_count": 235,
   "metadata": {},
   "outputs": [
    {
     "name": "stdout",
     "output_type": "stream",
     "text": [
      "RMSE: 4.772\n"
     ]
    }
   ],
   "source": [
    "#Declare a variable to store the RandomForestRegressor model\n",
    "rf_dum = RandomForestRegressor(random_state=42)\n",
    "#Fit train dataset\n",
    "rf_dum.fit(X_train_dum_ss, y_train_dum)\n",
    "#Declare a variable and store predictions made with the model using X test data\n",
    "rf_dum_pred = rf_dum.predict(X_test_dum_ss)\n",
    "#Print the RMSE for y test and the predictions\n",
    "rf_dum_mse = round(mean_squared_error(y_test_dum, rf_dum_pred, squared=False),3)\n",
    "print('RMSE:', rf_dum_mse)"
   ]
  },
  {
   "cell_type": "code",
   "execution_count": 236,
   "metadata": {},
   "outputs": [
    {
     "data": {
      "text/plain": [
       "Text(0, 0.5, 'True Values')"
      ]
     },
     "execution_count": 236,
     "metadata": {},
     "output_type": "execute_result"
    },
    {
     "data": {
      "image/png": "[encoded data removed]",
      "text/plain": [
       "<Figure size 432x288 with 1 Axes>"
      ]
     },
     "metadata": {
      "needs_background": "light"
     },
     "output_type": "display_data"
    }
   ],
   "source": [
    "#Plot a scatterplot between test and prediction values\n",
    "plt.scatter(rf_dum_pred, y_test_dum)\n",
    "plt.xlabel('Predictions')\n",
    "plt.ylabel('True Values')"
   ]
  },
  {
   "cell_type": "markdown",
   "metadata": {},
   "source": [
    "## Using Entire Data (Numerical + Categorical)"
   ]
  },
  {
   "cell_type": "code",
   "execution_count": 237,
   "metadata": {},
   "outputs": [],
   "source": [
    "#Prepare the independent variables again with the nine columns dropped\n",
    "full_cols = [x for x in full_data.columns if x not in ['depsev_min', 'depsev_mod', 'depsev_modsev', 'depsev_sev',\n",
    "                                                    'dep_yes', 'deptype_other', 'deptype_no', 'todep', 'age_cate']]\n",
    "#Set independent and dependent variables\n",
    "X_df = full_data[full_cols]\n",
    "y_df = full_data['todep']\n",
    "\n",
    "#Split independent and dependent variables into train and test \n",
    "X_train_df, X_test_df, y_train_df, y_test_df = train_test_split(X_df, y_df, test_size=0.20, random_state=42)\n",
    "\n",
    "#Standardise data\n",
    "ss_df = StandardScaler()\n",
    "\n",
    "#Fit and transform on train set\n",
    "X_train_df_ss = ss_df.fit_transform(X_train_df)\n",
    "\n",
    "#Transform on test set\n",
    "X_test_df_ss = ss_df.transform(X_test_df)"
   ]
  },
  {
   "cell_type": "markdown",
   "metadata": {},
   "source": [
    "### Linear Regression"
   ]
  },
  {
   "cell_type": "code",
   "execution_count": 238,
   "metadata": {},
   "outputs": [
    {
     "name": "stdout",
     "output_type": "stream",
     "text": [
      "RMSE: 4.602\n"
     ]
    }
   ],
   "source": [
    "#Declare a variable to store the LinearRegression model\n",
    "lr_df = LinearRegression()\n",
    "#Fit train dataset\n",
    "lr_df.fit(X_train_df_ss, y_train_df)\n",
    "#Declare a variable and store predictions made with the model using X test data\n",
    "lr_df_pred = lr_df.predict(X_test_df_ss)\n",
    "#Print the RMSE for y test and the predictions\n",
    "lr_df_mse = round(mean_squared_error(y_test_df, lr_df_pred, squared=False),3)\n",
    "print('RMSE:', lr_df_mse)"
   ]
  },
  {
   "cell_type": "code",
   "execution_count": 239,
   "metadata": {},
   "outputs": [
    {
     "data": {
      "text/plain": [
       "Text(0, 0.5, 'True Values')"
      ]
     },
     "execution_count": 239,
     "metadata": {},
     "output_type": "execute_result"
    },
    {
     "data": {
      "image/png": "[encoded data removed]",
      "text/plain": [
       "<Figure size 432x288 with 1 Axes>"
      ]
     },
     "metadata": {
      "needs_background": "light"
     },
     "output_type": "display_data"
    }
   ],
   "source": [
    "# Step 19g: Plot a scatterplot between test and prediction values\n",
    "plt.scatter(lr_df_pred, y_test_df)\n",
    "plt.xlabel('Predictions')\n",
    "plt.ylabel('True Values')"
   ]
  },
  {
   "cell_type": "markdown",
   "metadata": {},
   "source": [
    "### Decision Tree Regressor"
   ]
  },
  {
   "cell_type": "code",
   "execution_count": 240,
   "metadata": {},
   "outputs": [
    {
     "name": "stdout",
     "output_type": "stream",
     "text": [
      "RMSE: 6.19\n"
     ]
    }
   ],
   "source": [
    "#Declare a variable to store the DecisionTreeRegressor model\n",
    "dt_df = DecisionTreeRegressor(random_state=42)\n",
    "#Fit train dataset\n",
    "dt_df.fit(X_train_df_ss, y_train_df)\n",
    "#Declare a variable and store predictions made with the model using X test data\n",
    "dt_df_pred = dt_df.predict(X_test_df_ss)\n",
    "#Print the RMSE for y test and the predictions\n",
    "dt_df_mse = round(mean_squared_error(y_test_df, dt_df_pred, squared=False),3)\n",
    "print('RMSE:', dt_df_mse)"
   ]
  },
  {
   "cell_type": "code",
   "execution_count": 241,
   "metadata": {},
   "outputs": [
    {
     "data": {
      "text/plain": [
       "Text(0, 0.5, 'True Values')"
      ]
     },
     "execution_count": 241,
     "metadata": {},
     "output_type": "execute_result"
    },
    {
     "data": {
      "image/png": "[encoded data removed]",
      "text/plain": [
       "<Figure size 432x288 with 1 Axes>"
      ]
     },
     "metadata": {
      "needs_background": "light"
     },
     "output_type": "display_data"
    }
   ],
   "source": [
    "#Plot a scatterplot between test and prediction values\n",
    "plt.scatter(dt_df_pred, y_test_df)\n",
    "plt.xlabel('Predictions')\n",
    "plt.ylabel('True Values')"
   ]
  },
  {
   "cell_type": "markdown",
   "metadata": {},
   "source": [
    "### Random Forest Regressor"
   ]
  },
  {
   "cell_type": "code",
   "execution_count": 242,
   "metadata": {},
   "outputs": [
    {
     "name": "stdout",
     "output_type": "stream",
     "text": [
      "RMSE: 4.316\n"
     ]
    }
   ],
   "source": [
    "#Declare a variable to store the RandomForestRegressor model\n",
    "rf_df = RandomForestRegressor(random_state=42)\n",
    "#Fit train dataset\n",
    "rf_df.fit(X_train_df_ss, y_train_df)\n",
    "#Declare a variable and store predictions made with the model using X test data\n",
    "rf_df_pred = rf_df.predict(X_test_df_ss)\n",
    "#Print the RMSE for y test and the predictions\n",
    "rf_df_mse = round(mean_squared_error(y_test_df, rf_df_pred, squared=False),3)\n",
    "print('RMSE:', rf_df_mse)"
   ]
  },
  {
   "cell_type": "code",
   "execution_count": 243,
   "metadata": {},
   "outputs": [
    {
     "data": {
      "text/plain": [
       "Text(0, 0.5, 'True Values')"
      ]
     },
     "execution_count": 243,
     "metadata": {},
     "output_type": "execute_result"
    },
    {
     "data": {
      "image/png": "[encoded data removed]",
      "text/plain": [
       "<Figure size 432x288 with 1 Axes>"
      ]
     },
     "metadata": {
      "needs_background": "light"
     },
     "output_type": "display_data"
    }
   ],
   "source": [
    "#Plot a scatterplot between test and prediction values\n",
    "plt.scatter(rf_df_pred, y_test_df)\n",
    "plt.xlabel('Predictions')\n",
    "plt.ylabel('True Values')"
   ]
  },
  {
   "cell_type": "markdown",
   "metadata": {},
   "source": [
    "Evaluating all the models above, it seems that the Random Forest Regressor model performs the best in terms of the RMSE score. However, there are still much room for improvement with regards to the RMSE score. Hence we could possibly try using gridsearch to improve the scores slightly in the future while also perhaps collecting more data to train the model moving forward."
   ]
  },
  {
   "cell_type": "markdown",
   "metadata": {},
   "source": [
    "# Task 2: Predicting Suicidal Ideation"
   ]
  },
  {
   "cell_type": "code",
   "execution_count": 257,
   "metadata": {},
   "outputs": [],
   "source": [
    "#Prepare the independent and dependent variables\n",
    "binary_cols = [x for x in full_data.columns if x not in ['age_cate', 'todep', 'tosc', 'toas', 'suicide_yes']]\n",
    "X_bin = full_data[binary_cols]\n",
    "y_bin = full_data['suicide_yes']"
   ]
  },
  {
   "cell_type": "code",
   "execution_count": 258,
   "metadata": {},
   "outputs": [],
   "source": [
    "#Split data into train and test\n",
    "X_train_bin, X_test_bin, y_train_bin, y_test_bin = train_test_split(X_bin, y_bin, test_size=0.20, \n",
    "                                                                    random_state=42, stratify=y_bin)\n",
    "\n",
    "#Standardise data\n",
    "ss_bin = StandardScaler()\n",
    "\n",
    "#Fit and transform on train set\n",
    "X_train_bin_ss = ss_bin.fit_transform(X_train_bin)\n",
    "\n",
    "#Transform on test set\n",
    "X_test_bin_ss = ss_bin.transform(X_test_bin)"
   ]
  },
  {
   "cell_type": "markdown",
   "metadata": {},
   "source": [
    "### Baseline Model"
   ]
  },
  {
   "cell_type": "code",
   "execution_count": 259,
   "metadata": {},
   "outputs": [
    {
     "name": "stdout",
     "output_type": "stream",
     "text": [
      "Accuracy: 0.611\n",
      "F1 Score: 0.16\n"
     ]
    },
    {
     "name": "stderr",
     "output_type": "stream",
     "text": [
      "/opt/anaconda3/lib/python3.8/site-packages/sklearn/dummy.py:131: FutureWarning: The default value of strategy will change from stratified to prior in 0.24.\n",
      "  warnings.warn(\"The default value of strategy will change from \"\n"
     ]
    }
   ],
   "source": [
    "#Declare a variable to store the DummyClassifier model\n",
    "base_bin = DummyClassifier(random_state=42)\n",
    "#Fit your train dataset\n",
    "base_bin.fit(X_train_bin_ss, y_train_bin)\n",
    "#Declare a variable and store your predictions that you make with your model using X test data\n",
    "base_bin_pred = base_bin.predict(X_test_bin_ss)\n",
    "#Print the accuracy and f1 score for y test and the predictions\n",
    "base_bin_f1 = round(f1_score(y_test_bin, base_bin_pred),3)\n",
    "base_bin_acc = round(accuracy_score(y_test_bin, base_bin_pred),3)\n",
    "print('Accuracy:', base_bin_acc)\n",
    "print('F1 Score:', base_bin_f1)"
   ]
  },
  {
   "cell_type": "code",
   "execution_count": 260,
   "metadata": {},
   "outputs": [
    {
     "data": {
      "text/plain": [
       "<sklearn.metrics._plot.confusion_matrix.ConfusionMatrixDisplay at 0x132a0e6d0>"
      ]
     },
     "execution_count": 260,
     "metadata": {},
     "output_type": "execute_result"
    },
    {
     "data": {
      "image/png": "[encoded data removed]",
      "text/plain": [
       "<Figure size 432x288 with 2 Axes>"
      ]
     },
     "metadata": {
      "needs_background": "light"
     },
     "output_type": "display_data"
    }
   ],
   "source": [
    "#Plot a confusion matrix between test and prediction values\n",
    "plot_confusion_matrix(base_bin, X_test_bin_ss, y_test_bin, display_labels=['No', 'Yes'], cmap=plt.cm.Blues)"
   ]
  },
  {
   "cell_type": "markdown",
   "metadata": {},
   "source": [
    "### Decision Tree Classifier"
   ]
  },
  {
   "cell_type": "code",
   "execution_count": 261,
   "metadata": {},
   "outputs": [
    {
     "name": "stdout",
     "output_type": "stream",
     "text": [
      "Accuracy: 0.741\n",
      "F1 Score: 0.364\n"
     ]
    }
   ],
   "source": [
    "#Declare a variable to store the DecisionTreeClassifier model\n",
    "dt_bin = DecisionTreeClassifier(random_state=42)\n",
    "#Fit train dataset\n",
    "dt_bin.fit(X_train_bin_ss, y_train_bin)\n",
    "#Declare a variable and store your predictions made with the model using X test data\n",
    "dt_bin_pred = dt_bin.predict(X_test_bin_ss)\n",
    "#Print the accuracy and f1 score for y test and the predictions\n",
    "dt_bin_f1 = round(f1_score(y_test_bin, dt_bin_pred),3)\n",
    "dt_bin_acc = round(accuracy_score(y_test_bin, dt_bin_pred),3)\n",
    "print('Accuracy:', dt_bin_acc)\n",
    "print('F1 Score:', dt_bin_f1)"
   ]
  },
  {
   "cell_type": "code",
   "execution_count": 262,
   "metadata": {},
   "outputs": [
    {
     "data": {
      "text/plain": [
       "<sklearn.metrics._plot.confusion_matrix.ConfusionMatrixDisplay at 0x132d75d00>"
      ]
     },
     "execution_count": 262,
     "metadata": {},
     "output_type": "execute_result"
    },
    {
     "data": {
      "image/png": "[encoded data removed]",
      "text/plain": [
       "<Figure size 432x288 with 2 Axes>"
      ]
     },
     "metadata": {
      "needs_background": "light"
     },
     "output_type": "display_data"
    }
   ],
   "source": [
    "#Plot a confusion matrix between test and prediction values\n",
    "plot_confusion_matrix(dt_bin, X_test_bin_ss, y_test_bin, display_labels=['No', 'Yes'], cmap=plt.cm.Blues)"
   ]
  },
  {
   "cell_type": "markdown",
   "metadata": {},
   "source": [
    "### Random Forest Classifier"
   ]
  },
  {
   "cell_type": "code",
   "execution_count": 274,
   "metadata": {},
   "outputs": [
    {
     "name": "stdout",
     "output_type": "stream",
     "text": [
      "Accuracy: 0.778\n",
      "F1 Score: 0.333\n"
     ]
    }
   ],
   "source": [
    "#Declare a variable to store the RandomForestClassifier model\n",
    "rf_bin = RandomForestClassifier(random_state=42)\n",
    "#Fit train dataset\n",
    "rf_bin.fit(X_train_bin_ss, y_train_bin)\n",
    "#Declare a variable and store predictions made with the model using X test data\n",
    "rf_bin_pred = rf_bin.predict(X_test_bin_ss)\n",
    "#Print the accuracy and f1 score for y test and the predictions\n",
    "rf_bin_f1 = round(f1_score(y_test_bin, rf_bin_pred),3)\n",
    "rf_bin_acc = round(accuracy_score(y_test_bin, rf_bin_pred),3)\n",
    "print('Accuracy:', rf_bin_acc)\n",
    "print('F1 Score:', rf_bin_f1)"
   ]
  },
  {
   "cell_type": "code",
   "execution_count": 275,
   "metadata": {},
   "outputs": [
    {
     "data": {
      "text/plain": [
       "<sklearn.metrics._plot.confusion_matrix.ConfusionMatrixDisplay at 0x13117d430>"
      ]
     },
     "execution_count": 275,
     "metadata": {},
     "output_type": "execute_result"
    },
    {
     "data": {
      "image/png": "[encoded data removed]",
      "text/plain": [
       "<Figure size 432x288 with 2 Axes>"
      ]
     },
     "metadata": {
      "needs_background": "light"
     },
     "output_type": "display_data"
    }
   ],
   "source": [
    "#Plot a confusion matrix between test and prediction values\n",
    "plot_confusion_matrix(rf_bin, X_test_bin_ss, y_test_bin, display_labels=['No', 'Yes'], cmap=plt.cm.Blues)"
   ]
  },
  {
   "cell_type": "markdown",
   "metadata": {},
   "source": [
    "### Logistic Regression"
   ]
  },
  {
   "cell_type": "code",
   "execution_count": 276,
   "metadata": {},
   "outputs": [
    {
     "name": "stdout",
     "output_type": "stream",
     "text": [
      "Accuracy: 0.852\n",
      "F1 Score: 0.556\n"
     ]
    }
   ],
   "source": [
    "#Declare a variable to store the LogisticRegression model\n",
    "lr_bin = LogisticRegression(random_state=42)\n",
    "#Fit your train dataset\n",
    "lr_bin.fit(X_train_bin_ss, y_train_bin)\n",
    "#Declare a variable and store predictions made with the model using X test data\n",
    "lr_bin_pred = lr_bin.predict(X_test_bin_ss)\n",
    "#Print the accuracy and f1 score for y test and the predictions\n",
    "lr_bin_f1 = round(f1_score(y_test_bin, lr_bin_pred),3)\n",
    "lr_bin_acc = round(accuracy_score(y_test_bin, lr_bin_pred),3)\n",
    "print('Accuracy:', lr_bin_acc)\n",
    "print('F1 Score:', lr_bin_f1)"
   ]
  },
  {
   "cell_type": "code",
   "execution_count": 277,
   "metadata": {},
   "outputs": [
    {
     "data": {
      "text/plain": [
       "<sklearn.metrics._plot.confusion_matrix.ConfusionMatrixDisplay at 0x132892c10>"
      ]
     },
     "execution_count": 277,
     "metadata": {},
     "output_type": "execute_result"
    },
    {
     "data": {
      "image/png": "[encoded data removed]",
      "text/plain": [
       "<Figure size 432x288 with 2 Axes>"
      ]
     },
     "metadata": {
      "needs_background": "light"
     },
     "output_type": "display_data"
    }
   ],
   "source": [
    "#Plot a confusion matrix between test and prediction values\n",
    "plot_confusion_matrix(lr_bin, X_test_bin_ss, y_test_bin, display_labels=['No', 'Yes'], cmap=plt.cm.Blues)"
   ]
  },
  {
   "cell_type": "markdown",
   "metadata": {},
   "source": [
    "Evaluating all the models above, it seems that the Logistic Regression model performs the best in terms of both accuracy and F1 score. However, there are still some room for improvement with regards to the F1 score, and hence, we could possibly try using gridsearch to improve the scores slightly or try oversampling in the future."
   ]
  }
 ],
 "metadata": {
  "kernelspec": {
   "display_name": "Python 3",
   "language": "python",
   "name": "python3"
  },
  "language_info": {
   "codemirror_mode": {
    "name": "ipython",
    "version": 3
   },
   "file_extension": ".py",
   "mimetype": "text/x-python",
   "name": "python",
   "nbconvert_exporter": "python",
   "pygments_lexer": "ipython3",
   "version": "3.8.3"
  }
 },
 "nbformat": 4,
 "nbformat_minor": 4
}
