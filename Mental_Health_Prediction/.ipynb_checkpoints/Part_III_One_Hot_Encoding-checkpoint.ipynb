{
 "cells": [
  {
   "cell_type": "markdown",
   "metadata": {},
   "source": [
    "# Project University Mental Health"
   ]
  },
  {
   "cell_type": "markdown",
   "metadata": {},
   "source": [
    "<div style=\"background-color: #78E8A3; padding: 20px\">\n",
    "<h3>Project Scenario</h3>\n",
    "<p>Mental health is an area that is severely neglected, and can have very serious ramifications such as student self-harm and depression.</p> \n",
    "<p>Working in a university's health and wellness center, we have been tasked to identify students at risk using data so that we can help them as early as possible.</p>\n",
    "<p>In this project, we will explore a dataset obtained from the research of Nguyen et al (2019), where the authors obtained a record of 268 questionaire results of depression, acculturative stress, social connectedness, and help-seeking behaviour by a cohort of local and international students. We will be training our data on various models to predict two tasks:</p>\n",
    "(1) A regression problem: Predicting depression severity (depression score) of a student<br>\n",
    "(2) A classification problem: Predicting whether a student have thoughts of suicide<br>\n",
    "    \n",
    "Task 1's models would be evaluated and selected based on their RMSE, and task 2's models would be evaluated and selected based on their Accuracy and F1 scores.\n",
    "    \n",
    "Research details <a href = 'https://www.mdpi.com/2306-5729/4/3/124/htm'>here</a>.\n",
    "</div>"
   ]
  },
  {
   "cell_type": "markdown",
   "metadata": {},
   "source": [
    "As the the categorical values from the data are engineered from the numerical ones, our approach for this dataset is slightly different. We will first:\n",
    "1. Get a DataFrame that contains only numerical columns\n",
    "2. Get a DataFrame that contains only one-hot encoded variables from categorical variables\n",
    "3. A combination of both numerical and one-hot encoded variables\n",
    "\n",
    "We will prepare three sets of DataFrames so that we can work with them in the next Part, which is machine learning modelling."
   ]
  },
  {
   "cell_type": "code",
   "execution_count": 5,
   "metadata": {},
   "outputs": [],
   "source": [
    "#Import libraries\n",
    "import pandas as pd\n",
    "import numpy as np"
   ]
  },
  {
   "cell_type": "code",
   "execution_count": 2,
   "metadata": {},
   "outputs": [],
   "source": [
    "#Read the cleaned CSV\n",
    "cleaned_results = pd.read_csv('./datasets/filled_data.csv')"
   ]
  },
  {
   "cell_type": "code",
   "execution_count": 3,
   "metadata": {},
   "outputs": [
    {
     "data": {
      "text/plain": [
       "(268, 50)"
      ]
     },
     "execution_count": 3,
     "metadata": {},
     "output_type": "execute_result"
    }
   ],
   "source": [
    "cleaned_results.shape"
   ]
  },
  {
   "cell_type": "markdown",
   "metadata": {},
   "source": [
    "### Get DataFrame containing numerical columns only"
   ]
  },
  {
   "cell_type": "code",
   "execution_count": 6,
   "metadata": {
    "scrolled": false
   },
   "outputs": [],
   "source": [
    "#Get a DataFrame containing only numbers\n",
    "float_only = cleaned_results.select_dtypes(np.number)"
   ]
  },
  {
   "cell_type": "code",
   "execution_count": 8,
   "metadata": {},
   "outputs": [],
   "source": [
    "#Export the numerical DataFrame as CSV\n",
    "float_only.to_csv('./datasets/numerical_data.csv', index=False)"
   ]
  },
  {
   "cell_type": "markdown",
   "metadata": {},
   "source": [
    "### Get DataFrame containing categorical columns only"
   ]
  },
  {
   "cell_type": "code",
   "execution_count": 10,
   "metadata": {},
   "outputs": [],
   "source": [
    "#Get a DataFrame that contains only strings/objects\n",
    "category_only = cleaned_results.select_dtypes(object)"
   ]
  },
  {
   "cell_type": "code",
   "execution_count": 14,
   "metadata": {},
   "outputs": [],
   "source": [
    "#Use pd.get_dummies to one hot encode categorical variables\n",
    "onehot_category = pd.get_dummies(category_only, drop_first=True)"
   ]
  },
  {
   "cell_type": "code",
   "execution_count": 17,
   "metadata": {},
   "outputs": [],
   "source": [
    "#make columns into lowercase\n",
    "onehot_category.columns = onehot_category.columns.str.lower()"
   ]
  },
  {
   "cell_type": "code",
   "execution_count": 18,
   "metadata": {},
   "outputs": [
    {
     "data": {
      "text/html": [
       "<div>\n",
       "<style scoped>\n",
       "    .dataframe tbody tr th:only-of-type {\n",
       "        vertical-align: middle;\n",
       "    }\n",
       "\n",
       "    .dataframe tbody tr th {\n",
       "        vertical-align: top;\n",
       "    }\n",
       "\n",
       "    .dataframe thead th {\n",
       "        text-align: right;\n",
       "    }\n",
       "</style>\n",
       "<table border=\"1\" class=\"dataframe\">\n",
       "  <thead>\n",
       "    <tr style=\"text-align: right;\">\n",
       "      <th></th>\n",
       "      <th>inter_dom_inter</th>\n",
       "      <th>region_jap</th>\n",
       "      <th>region_others</th>\n",
       "      <th>region_sa</th>\n",
       "      <th>region_sea</th>\n",
       "      <th>gender_male</th>\n",
       "      <th>academic_under</th>\n",
       "      <th>stay_cate_medium</th>\n",
       "      <th>stay_cate_short</th>\n",
       "      <th>japanese_cate_high</th>\n",
       "      <th>...</th>\n",
       "      <th>friends_bi_yes</th>\n",
       "      <th>parents_bi_yes</th>\n",
       "      <th>relative_bi_yes</th>\n",
       "      <th>professional_bi_yes</th>\n",
       "      <th>phone_bi_yes</th>\n",
       "      <th>doctor_bi_yes</th>\n",
       "      <th>religion_bi_yes</th>\n",
       "      <th>alone_bi_yes</th>\n",
       "      <th>others_bi_yes</th>\n",
       "      <th>internet_bi_yes</th>\n",
       "    </tr>\n",
       "  </thead>\n",
       "  <tbody>\n",
       "    <tr>\n",
       "      <th>0</th>\n",
       "      <td>1</td>\n",
       "      <td>0</td>\n",
       "      <td>0</td>\n",
       "      <td>0</td>\n",
       "      <td>1</td>\n",
       "      <td>1</td>\n",
       "      <td>0</td>\n",
       "      <td>0</td>\n",
       "      <td>0</td>\n",
       "      <td>0</td>\n",
       "      <td>...</td>\n",
       "      <td>1</td>\n",
       "      <td>1</td>\n",
       "      <td>0</td>\n",
       "      <td>0</td>\n",
       "      <td>0</td>\n",
       "      <td>0</td>\n",
       "      <td>0</td>\n",
       "      <td>0</td>\n",
       "      <td>0</td>\n",
       "      <td>0</td>\n",
       "    </tr>\n",
       "    <tr>\n",
       "      <th>1</th>\n",
       "      <td>1</td>\n",
       "      <td>0</td>\n",
       "      <td>0</td>\n",
       "      <td>0</td>\n",
       "      <td>1</td>\n",
       "      <td>1</td>\n",
       "      <td>0</td>\n",
       "      <td>0</td>\n",
       "      <td>1</td>\n",
       "      <td>1</td>\n",
       "      <td>...</td>\n",
       "      <td>1</td>\n",
       "      <td>1</td>\n",
       "      <td>0</td>\n",
       "      <td>0</td>\n",
       "      <td>0</td>\n",
       "      <td>0</td>\n",
       "      <td>0</td>\n",
       "      <td>0</td>\n",
       "      <td>0</td>\n",
       "      <td>0</td>\n",
       "    </tr>\n",
       "    <tr>\n",
       "      <th>2</th>\n",
       "      <td>1</td>\n",
       "      <td>0</td>\n",
       "      <td>0</td>\n",
       "      <td>0</td>\n",
       "      <td>1</td>\n",
       "      <td>1</td>\n",
       "      <td>0</td>\n",
       "      <td>0</td>\n",
       "      <td>0</td>\n",
       "      <td>1</td>\n",
       "      <td>...</td>\n",
       "      <td>0</td>\n",
       "      <td>0</td>\n",
       "      <td>0</td>\n",
       "      <td>0</td>\n",
       "      <td>0</td>\n",
       "      <td>0</td>\n",
       "      <td>0</td>\n",
       "      <td>0</td>\n",
       "      <td>0</td>\n",
       "      <td>0</td>\n",
       "    </tr>\n",
       "    <tr>\n",
       "      <th>3</th>\n",
       "      <td>1</td>\n",
       "      <td>0</td>\n",
       "      <td>0</td>\n",
       "      <td>0</td>\n",
       "      <td>0</td>\n",
       "      <td>0</td>\n",
       "      <td>0</td>\n",
       "      <td>0</td>\n",
       "      <td>1</td>\n",
       "      <td>0</td>\n",
       "      <td>...</td>\n",
       "      <td>1</td>\n",
       "      <td>1</td>\n",
       "      <td>1</td>\n",
       "      <td>1</td>\n",
       "      <td>0</td>\n",
       "      <td>0</td>\n",
       "      <td>0</td>\n",
       "      <td>0</td>\n",
       "      <td>0</td>\n",
       "      <td>0</td>\n",
       "    </tr>\n",
       "    <tr>\n",
       "      <th>4</th>\n",
       "      <td>1</td>\n",
       "      <td>0</td>\n",
       "      <td>0</td>\n",
       "      <td>0</td>\n",
       "      <td>0</td>\n",
       "      <td>0</td>\n",
       "      <td>0</td>\n",
       "      <td>0</td>\n",
       "      <td>1</td>\n",
       "      <td>0</td>\n",
       "      <td>...</td>\n",
       "      <td>1</td>\n",
       "      <td>1</td>\n",
       "      <td>0</td>\n",
       "      <td>1</td>\n",
       "      <td>0</td>\n",
       "      <td>1</td>\n",
       "      <td>1</td>\n",
       "      <td>0</td>\n",
       "      <td>0</td>\n",
       "      <td>0</td>\n",
       "    </tr>\n",
       "  </tbody>\n",
       "</table>\n",
       "<p>5 rows × 34 columns</p>\n",
       "</div>"
      ],
      "text/plain": [
       "   inter_dom_inter  region_jap  region_others  region_sa  region_sea  \\\n",
       "0                1           0              0          0           1   \n",
       "1                1           0              0          0           1   \n",
       "2                1           0              0          0           1   \n",
       "3                1           0              0          0           0   \n",
       "4                1           0              0          0           0   \n",
       "\n",
       "   gender_male  academic_under  stay_cate_medium  stay_cate_short  \\\n",
       "0            1               0                 0                0   \n",
       "1            1               0                 0                1   \n",
       "2            1               0                 0                0   \n",
       "3            0               0                 0                1   \n",
       "4            0               0                 0                1   \n",
       "\n",
       "   japanese_cate_high  ...  friends_bi_yes  parents_bi_yes  relative_bi_yes  \\\n",
       "0                   0  ...               1               1                0   \n",
       "1                   1  ...               1               1                0   \n",
       "2                   1  ...               0               0                0   \n",
       "3                   0  ...               1               1                1   \n",
       "4                   0  ...               1               1                0   \n",
       "\n",
       "   professional_bi_yes  phone_bi_yes  doctor_bi_yes  religion_bi_yes  \\\n",
       "0                    0             0              0                0   \n",
       "1                    0             0              0                0   \n",
       "2                    0             0              0                0   \n",
       "3                    1             0              0                0   \n",
       "4                    1             0              1                1   \n",
       "\n",
       "   alone_bi_yes  others_bi_yes  internet_bi_yes  \n",
       "0             0              0                0  \n",
       "1             0              0                0  \n",
       "2             0              0                0  \n",
       "3             0              0                0  \n",
       "4             0              0                0  \n",
       "\n",
       "[5 rows x 34 columns]"
      ]
     },
     "execution_count": 18,
     "metadata": {},
     "output_type": "execute_result"
    }
   ],
   "source": [
    "onehot_category.head()"
   ]
  },
  {
   "cell_type": "code",
   "execution_count": 19,
   "metadata": {},
   "outputs": [
    {
     "data": {
      "text/plain": [
       "(268, 34)"
      ]
     },
     "execution_count": 19,
     "metadata": {},
     "output_type": "execute_result"
    }
   ],
   "source": [
    "onehot_category.shape"
   ]
  },
  {
   "cell_type": "code",
   "execution_count": 20,
   "metadata": {},
   "outputs": [],
   "source": [
    "#Export the one-hot encoded categorical data\n",
    "onehot_category.to_csv('./datasets/categorical_data.csv', index=False)"
   ]
  },
  {
   "cell_type": "markdown",
   "metadata": {},
   "source": [
    "### Get a DataFrame that is both numerical and one-hot encoded"
   ]
  },
  {
   "cell_type": "code",
   "execution_count": 32,
   "metadata": {
    "scrolled": true
   },
   "outputs": [],
   "source": [
    "#Get the full data (numerical + categorical)\n",
    "final_dataset = pd.concat([float_only, onehot_category], axis=1)"
   ]
  },
  {
   "cell_type": "code",
   "execution_count": 33,
   "metadata": {},
   "outputs": [
    {
     "data": {
      "text/html": [
       "<div>\n",
       "<style scoped>\n",
       "    .dataframe tbody tr th:only-of-type {\n",
       "        vertical-align: middle;\n",
       "    }\n",
       "\n",
       "    .dataframe tbody tr th {\n",
       "        vertical-align: top;\n",
       "    }\n",
       "\n",
       "    .dataframe thead th {\n",
       "        text-align: right;\n",
       "    }\n",
       "</style>\n",
       "<table border=\"1\" class=\"dataframe\">\n",
       "  <thead>\n",
       "    <tr style=\"text-align: right;\">\n",
       "      <th></th>\n",
       "      <th>age</th>\n",
       "      <th>age_cate</th>\n",
       "      <th>stay</th>\n",
       "      <th>japanese</th>\n",
       "      <th>english</th>\n",
       "      <th>todep</th>\n",
       "      <th>tosc</th>\n",
       "      <th>apd</th>\n",
       "      <th>ahome</th>\n",
       "      <th>aph</th>\n",
       "      <th>...</th>\n",
       "      <th>friends_bi_yes</th>\n",
       "      <th>parents_bi_yes</th>\n",
       "      <th>relative_bi_yes</th>\n",
       "      <th>professional_bi_yes</th>\n",
       "      <th>phone_bi_yes</th>\n",
       "      <th>doctor_bi_yes</th>\n",
       "      <th>religion_bi_yes</th>\n",
       "      <th>alone_bi_yes</th>\n",
       "      <th>others_bi_yes</th>\n",
       "      <th>internet_bi_yes</th>\n",
       "    </tr>\n",
       "  </thead>\n",
       "  <tbody>\n",
       "    <tr>\n",
       "      <th>0</th>\n",
       "      <td>24.0</td>\n",
       "      <td>4.0</td>\n",
       "      <td>5.0</td>\n",
       "      <td>3.0</td>\n",
       "      <td>5.0</td>\n",
       "      <td>0.0</td>\n",
       "      <td>34.0</td>\n",
       "      <td>23.0</td>\n",
       "      <td>9.0</td>\n",
       "      <td>11.0</td>\n",
       "      <td>...</td>\n",
       "      <td>1</td>\n",
       "      <td>1</td>\n",
       "      <td>0</td>\n",
       "      <td>0</td>\n",
       "      <td>0</td>\n",
       "      <td>0</td>\n",
       "      <td>0</td>\n",
       "      <td>0</td>\n",
       "      <td>0</td>\n",
       "      <td>0</td>\n",
       "    </tr>\n",
       "    <tr>\n",
       "      <th>1</th>\n",
       "      <td>28.0</td>\n",
       "      <td>5.0</td>\n",
       "      <td>1.0</td>\n",
       "      <td>4.0</td>\n",
       "      <td>4.0</td>\n",
       "      <td>2.0</td>\n",
       "      <td>48.0</td>\n",
       "      <td>8.0</td>\n",
       "      <td>7.0</td>\n",
       "      <td>5.0</td>\n",
       "      <td>...</td>\n",
       "      <td>1</td>\n",
       "      <td>1</td>\n",
       "      <td>0</td>\n",
       "      <td>0</td>\n",
       "      <td>0</td>\n",
       "      <td>0</td>\n",
       "      <td>0</td>\n",
       "      <td>0</td>\n",
       "      <td>0</td>\n",
       "      <td>0</td>\n",
       "    </tr>\n",
       "    <tr>\n",
       "      <th>2</th>\n",
       "      <td>25.0</td>\n",
       "      <td>4.0</td>\n",
       "      <td>6.0</td>\n",
       "      <td>4.0</td>\n",
       "      <td>4.0</td>\n",
       "      <td>2.0</td>\n",
       "      <td>41.0</td>\n",
       "      <td>13.0</td>\n",
       "      <td>4.0</td>\n",
       "      <td>7.0</td>\n",
       "      <td>...</td>\n",
       "      <td>0</td>\n",
       "      <td>0</td>\n",
       "      <td>0</td>\n",
       "      <td>0</td>\n",
       "      <td>0</td>\n",
       "      <td>0</td>\n",
       "      <td>0</td>\n",
       "      <td>0</td>\n",
       "      <td>0</td>\n",
       "      <td>0</td>\n",
       "    </tr>\n",
       "    <tr>\n",
       "      <th>3</th>\n",
       "      <td>29.0</td>\n",
       "      <td>5.0</td>\n",
       "      <td>1.0</td>\n",
       "      <td>2.0</td>\n",
       "      <td>3.0</td>\n",
       "      <td>3.0</td>\n",
       "      <td>37.0</td>\n",
       "      <td>16.0</td>\n",
       "      <td>10.0</td>\n",
       "      <td>10.0</td>\n",
       "      <td>...</td>\n",
       "      <td>1</td>\n",
       "      <td>1</td>\n",
       "      <td>1</td>\n",
       "      <td>1</td>\n",
       "      <td>0</td>\n",
       "      <td>0</td>\n",
       "      <td>0</td>\n",
       "      <td>0</td>\n",
       "      <td>0</td>\n",
       "      <td>0</td>\n",
       "    </tr>\n",
       "    <tr>\n",
       "      <th>4</th>\n",
       "      <td>28.0</td>\n",
       "      <td>5.0</td>\n",
       "      <td>1.0</td>\n",
       "      <td>1.0</td>\n",
       "      <td>3.0</td>\n",
       "      <td>3.0</td>\n",
       "      <td>37.0</td>\n",
       "      <td>15.0</td>\n",
       "      <td>12.0</td>\n",
       "      <td>5.0</td>\n",
       "      <td>...</td>\n",
       "      <td>1</td>\n",
       "      <td>1</td>\n",
       "      <td>0</td>\n",
       "      <td>1</td>\n",
       "      <td>0</td>\n",
       "      <td>1</td>\n",
       "      <td>1</td>\n",
       "      <td>0</td>\n",
       "      <td>0</td>\n",
       "      <td>0</td>\n",
       "    </tr>\n",
       "  </tbody>\n",
       "</table>\n",
       "<p>5 rows × 60 columns</p>\n",
       "</div>"
      ],
      "text/plain": [
       "    age  age_cate  stay  japanese  english  todep  tosc   apd  ahome   aph  \\\n",
       "0  24.0       4.0   5.0       3.0      5.0    0.0  34.0  23.0    9.0  11.0   \n",
       "1  28.0       5.0   1.0       4.0      4.0    2.0  48.0   8.0    7.0   5.0   \n",
       "2  25.0       4.0   6.0       4.0      4.0    2.0  41.0  13.0    4.0   7.0   \n",
       "3  29.0       5.0   1.0       2.0      3.0    3.0  37.0  16.0   10.0  10.0   \n",
       "4  28.0       5.0   1.0       1.0      3.0    3.0  37.0  15.0   12.0   5.0   \n",
       "\n",
       "   ...  friends_bi_yes  parents_bi_yes  relative_bi_yes  professional_bi_yes  \\\n",
       "0  ...               1               1                0                    0   \n",
       "1  ...               1               1                0                    0   \n",
       "2  ...               0               0                0                    0   \n",
       "3  ...               1               1                1                    1   \n",
       "4  ...               1               1                0                    1   \n",
       "\n",
       "   phone_bi_yes  doctor_bi_yes  religion_bi_yes  alone_bi_yes  others_bi_yes  \\\n",
       "0             0              0                0             0              0   \n",
       "1             0              0                0             0              0   \n",
       "2             0              0                0             0              0   \n",
       "3             0              0                0             0              0   \n",
       "4             0              1                1             0              0   \n",
       "\n",
       "   internet_bi_yes  \n",
       "0                0  \n",
       "1                0  \n",
       "2                0  \n",
       "3                0  \n",
       "4                0  \n",
       "\n",
       "[5 rows x 60 columns]"
      ]
     },
     "execution_count": 33,
     "metadata": {},
     "output_type": "execute_result"
    }
   ],
   "source": [
    "final_dataset.head()"
   ]
  },
  {
   "cell_type": "code",
   "execution_count": 34,
   "metadata": {},
   "outputs": [
    {
     "data": {
      "text/plain": [
       "(268, 60)"
      ]
     },
     "execution_count": 34,
     "metadata": {},
     "output_type": "execute_result"
    }
   ],
   "source": [
    "final_dataset.shape"
   ]
  },
  {
   "cell_type": "code",
   "execution_count": 35,
   "metadata": {},
   "outputs": [],
   "source": [
    "#Export the DataFrame as a CSV\n",
    "final_dataset.to_csv('./datasets/final_data.csv', index=False)"
   ]
  }
 ],
 "metadata": {
  "kernelspec": {
   "display_name": "Python 3",
   "language": "python",
   "name": "python3"
  },
  "language_info": {
   "codemirror_mode": {
    "name": "ipython",
    "version": 3
   },
   "file_extension": ".py",
   "mimetype": "text/x-python",
   "name": "python",
   "nbconvert_exporter": "python",
   "pygments_lexer": "ipython3",
   "version": "3.8.3"
  }
 },
 "nbformat": 4,
 "nbformat_minor": 4
}
